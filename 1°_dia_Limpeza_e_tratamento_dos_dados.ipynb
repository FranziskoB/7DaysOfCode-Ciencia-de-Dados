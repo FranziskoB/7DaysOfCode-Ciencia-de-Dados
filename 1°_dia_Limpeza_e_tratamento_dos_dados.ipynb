{
  "nbformat": 4,
  "nbformat_minor": 0,
  "metadata": {
    "colab": {
      "provenance": [],
      "collapsed_sections": [
        "cafEz_TOpNpd"
      ],
      "authorship_tag": "ABX9TyOpGfNCm8PPzTUwK+c7YhHk",
      "include_colab_link": true
    },
    "kernelspec": {
      "name": "python3",
      "display_name": "Python 3"
    },
    "language_info": {
      "name": "python"
    }
  },
  "cells": [
    {
      "cell_type": "markdown",
      "metadata": {
        "id": "view-in-github",
        "colab_type": "text"
      },
      "source": [
        "<a href=\"https://colab.research.google.com/github/FranziskoB/7DaysOfCode-Ciencia-de-Dados/blob/main/1%C2%B0_dia_Limpeza_e_tratamento_dos_dados.ipynb\" target=\"_parent\"><img src=\"https://colab.research.google.com/assets/colab-badge.svg\" alt=\"Open In Colab\"/></a>"
      ]
    },
    {
      "cell_type": "markdown",
      "source": [
        "# Data Wrangling"
      ],
      "metadata": {
        "id": "wqxROPxUqVlj"
      }
    },
    {
      "cell_type": "markdown",
      "source": [
        "### Descrição do dataset\n",
        "Cota para Exercício da Atividade Parlamentar dos Senadores:\n",
        "\n",
        "A Cota para o Exercício da Atividade Parlamentar é uma verba indenizatória à qual os 513 deputados federais e os 81 senadores têm direito para custear as despesas do mandato, com passagens aéreas, telefonia, manutenção de escritórios parlamentares, alimentação, hospedagem, locação de veículos, segurança, divulgação da atividade parlamentar e combustíveis.\n"
      ],
      "metadata": {
        "id": "0GFOdpDSpEB8"
      }
    },
    {
      "cell_type": "markdown",
      "source": [
        "### Importação da bibliotecas"
      ],
      "metadata": {
        "id": "kOZpVvG2q1VK"
      }
    },
    {
      "cell_type": "code",
      "source": [
        "import pandas as pd"
      ],
      "metadata": {
        "id": "fOzI7ZvNq6Dz"
      },
      "execution_count": 1,
      "outputs": []
    },
    {
      "cell_type": "markdown",
      "source": [
        "### Importação dos dados dos últimos 4 anos (2019, 2020, 2021 e 2022)"
      ],
      "metadata": {
        "id": "cafEz_TOpNpd"
      }
    },
    {
      "cell_type": "code",
      "execution_count": 2,
      "metadata": {
        "id": "IAhWCSz8oof9"
      },
      "outputs": [],
      "source": [
        "dados_2019=pd.read_csv('https://www.senado.gov.br/transparencia/LAI/verba/despesa_ceaps_2019.csv',sep=';',encoding = 'ISO-8859-1')\n",
        "dados_2020=pd.read_csv('https://www.senado.gov.br/transparencia/LAI/verba/despesa_ceaps_2020.csv',sep=';',encoding = 'ISO-8859-1')\n",
        "dados_2021=pd.read_csv('https://www.senado.gov.br/transparencia/LAI/verba/despesa_ceaps_2021.csv',sep=';',encoding = 'ISO-8859-1')\n",
        "dados_2022=pd.read_csv('https://www.senado.gov.br/transparencia/LAI/verba/despesa_ceaps_2022.csv',sep=';',encoding = 'ISO-8859-1')"
      ]
    },
    {
      "cell_type": "markdown",
      "source": [
        "Organizando os cabeçalhos das colunas"
      ],
      "metadata": {
        "id": "U-B2RPVqN4xK"
      }
    },
    {
      "cell_type": "code",
      "source": [
        "dados_2019=dados_2019.reset_index().iloc[1:]\n",
        "dados_2019.columns=['ANO','MES','SENADOR','TIPO_DEFESA','CNPJ_CPF','FORNECEDOR','DOCUMENTO','DATA','DETALHAMENTO','VALOR_REEMBOLSADO','COD_DOCUMENTO']\n",
        "\n",
        "dados_2020=dados_2020.reset_index().iloc[1:]\n",
        "dados_2020.columns=['ANO','MES','SENADOR','TIPO_DEFESA','CNPJ_CPF','FORNECEDOR','DOCUMENTO','DATA','DETALHAMENTO','VALOR_REEMBOLSADO','COD_DOCUMENTO']\n",
        "\n",
        "dados_2021=dados_2021.reset_index().iloc[1:]\n",
        "dados_2021.columns=['ANO','MES','SENADOR','TIPO_DEFESA','CNPJ_CPF','FORNECEDOR','DOCUMENTO','DATA','DETALHAMENTO','VALOR_REEMBOLSADO','COD_DOCUMENTO']\n",
        "\n",
        "dados_2022=dados_2022.reset_index().iloc[1:]\n",
        "dados_2022.columns=['ANO','MES','SENADOR','TIPO_DEFESA','CNPJ_CPF','FORNECEDOR','DOCUMENTO','DATA','DETALHAMENTO','VALOR_REEMBOLSADO','COD_DOCUMENTO']\n"
      ],
      "metadata": {
        "id": "AAtuVKzUIeJ9"
      },
      "execution_count": 3,
      "outputs": []
    },
    {
      "cell_type": "markdown",
      "source": [
        "Juntando todos os anos em um dataframe"
      ],
      "metadata": {
        "id": "Fba3YgMiOAZT"
      }
    },
    {
      "cell_type": "code",
      "source": [
        "dados=pd.concat([dados_2019,dados_2020,dados_2021,dados_2022], ignore_index=True)"
      ],
      "metadata": {
        "id": "GWs9cvmOH2D0"
      },
      "execution_count": 4,
      "outputs": []
    },
    {
      "cell_type": "markdown",
      "source": [
        "### Tratando os dados"
      ],
      "metadata": {
        "id": "GYe3fwVZOIRp"
      }
    },
    {
      "cell_type": "code",
      "source": [
        "dados.info()"
      ],
      "metadata": {
        "colab": {
          "base_uri": "https://localhost:8080/"
        },
        "id": "hCvh1TvYO-Ka",
        "outputId": "fdc7f4cd-7a6c-420f-be27-8d2a0a9e80fe"
      },
      "execution_count": 5,
      "outputs": [
        {
          "output_type": "stream",
          "name": "stdout",
          "text": [
            "<class 'pandas.core.frame.DataFrame'>\n",
            "RangeIndex: 68648 entries, 0 to 68647\n",
            "Data columns (total 11 columns):\n",
            " #   Column             Non-Null Count  Dtype \n",
            "---  ------             --------------  ----- \n",
            " 0   ANO                68648 non-null  object\n",
            " 1   MES                68648 non-null  object\n",
            " 2   SENADOR            68648 non-null  object\n",
            " 3   TIPO_DEFESA        68648 non-null  object\n",
            " 4   CNPJ_CPF           68648 non-null  object\n",
            " 5   FORNECEDOR         68648 non-null  object\n",
            " 6   DOCUMENTO          65709 non-null  object\n",
            " 7   DATA               68648 non-null  object\n",
            " 8   DETALHAMENTO       38243 non-null  object\n",
            " 9   VALOR_REEMBOLSADO  68648 non-null  object\n",
            " 10  COD_DOCUMENTO      68648 non-null  object\n",
            "dtypes: object(11)\n",
            "memory usage: 5.8+ MB\n"
          ]
        }
      ]
    },
    {
      "cell_type": "code",
      "source": [
        "dados.head(5)"
      ],
      "metadata": {
        "colab": {
          "base_uri": "https://localhost:8080/",
          "height": 337
        },
        "id": "-rmAkpxrSjcg",
        "outputId": "6a783fd2-c767-42ef-d7e8-a2b9e9dd9ee8"
      },
      "execution_count": 6,
      "outputs": [
        {
          "output_type": "execute_result",
          "data": {
            "text/plain": [
              "    ANO MES       SENADOR                                        TIPO_DEFESA  \\\n",
              "0  2019   1  ACIR GURGACZ  Aluguel de imóveis para escritório político, c...   \n",
              "1  2019   1  ACIR GURGACZ  Aluguel de imóveis para escritório político, c...   \n",
              "2  2019   1  ACIR GURGACZ  Aluguel de imóveis para escritório político, c...   \n",
              "3  2019   1  ACIR GURGACZ  Aluguel de imóveis para escritório político, c...   \n",
              "4  2019   2  ACIR GURGACZ  Aluguel de imóveis para escritório político, c...   \n",
              "\n",
              "             CNPJ_CPF                     FORNECEDOR  DOCUMENTO        DATA  \\\n",
              "0  05.914.650/0001-66                       ENERGISA  006582758  04/01/2019   \n",
              "1  05.914.650/0001-66                       ENERGISA  006582755  04/01/2019   \n",
              "2      004.948.028-63  GILBERTO PISELO DO NASCIMENTO      00119  07/01/2019   \n",
              "3  05.423.963/0001-11                  OI MÓVEL S.A.   86161151  25/12/2018   \n",
              "4  05.914.650/0001-66                       ENERGISA  007236036  04/02/2019   \n",
              "\n",
              "                                        DETALHAMENTO VALOR_REEMBOLSADO  \\\n",
              "0  Despesa com pagamento de energia elétrica do e...             66,02   \n",
              "1  Despesa com pagamento de energia elétrica do e...            139,98   \n",
              "2  Despesa com pagamento de aluguel de imóvel par...              6000   \n",
              "3  Despesa com pagamento de telefonia para o escr...            316,39   \n",
              "4  Despesa com pagamento de energia elétrica para...             99,45   \n",
              "\n",
              "  COD_DOCUMENTO  \n",
              "0       2116543  \n",
              "1       2116546  \n",
              "2       2113817  \n",
              "3       2116541  \n",
              "4       2116550  "
            ],
            "text/html": [
              "\n",
              "  <div id=\"df-b2bd3f56-7c7e-443e-9033-029118630f8f\">\n",
              "    <div class=\"colab-df-container\">\n",
              "      <div>\n",
              "<style scoped>\n",
              "    .dataframe tbody tr th:only-of-type {\n",
              "        vertical-align: middle;\n",
              "    }\n",
              "\n",
              "    .dataframe tbody tr th {\n",
              "        vertical-align: top;\n",
              "    }\n",
              "\n",
              "    .dataframe thead th {\n",
              "        text-align: right;\n",
              "    }\n",
              "</style>\n",
              "<table border=\"1\" class=\"dataframe\">\n",
              "  <thead>\n",
              "    <tr style=\"text-align: right;\">\n",
              "      <th></th>\n",
              "      <th>ANO</th>\n",
              "      <th>MES</th>\n",
              "      <th>SENADOR</th>\n",
              "      <th>TIPO_DEFESA</th>\n",
              "      <th>CNPJ_CPF</th>\n",
              "      <th>FORNECEDOR</th>\n",
              "      <th>DOCUMENTO</th>\n",
              "      <th>DATA</th>\n",
              "      <th>DETALHAMENTO</th>\n",
              "      <th>VALOR_REEMBOLSADO</th>\n",
              "      <th>COD_DOCUMENTO</th>\n",
              "    </tr>\n",
              "  </thead>\n",
              "  <tbody>\n",
              "    <tr>\n",
              "      <th>0</th>\n",
              "      <td>2019</td>\n",
              "      <td>1</td>\n",
              "      <td>ACIR GURGACZ</td>\n",
              "      <td>Aluguel de imóveis para escritório político, c...</td>\n",
              "      <td>05.914.650/0001-66</td>\n",
              "      <td>ENERGISA</td>\n",
              "      <td>006582758</td>\n",
              "      <td>04/01/2019</td>\n",
              "      <td>Despesa com pagamento de energia elétrica do e...</td>\n",
              "      <td>66,02</td>\n",
              "      <td>2116543</td>\n",
              "    </tr>\n",
              "    <tr>\n",
              "      <th>1</th>\n",
              "      <td>2019</td>\n",
              "      <td>1</td>\n",
              "      <td>ACIR GURGACZ</td>\n",
              "      <td>Aluguel de imóveis para escritório político, c...</td>\n",
              "      <td>05.914.650/0001-66</td>\n",
              "      <td>ENERGISA</td>\n",
              "      <td>006582755</td>\n",
              "      <td>04/01/2019</td>\n",
              "      <td>Despesa com pagamento de energia elétrica do e...</td>\n",
              "      <td>139,98</td>\n",
              "      <td>2116546</td>\n",
              "    </tr>\n",
              "    <tr>\n",
              "      <th>2</th>\n",
              "      <td>2019</td>\n",
              "      <td>1</td>\n",
              "      <td>ACIR GURGACZ</td>\n",
              "      <td>Aluguel de imóveis para escritório político, c...</td>\n",
              "      <td>004.948.028-63</td>\n",
              "      <td>GILBERTO PISELO DO NASCIMENTO</td>\n",
              "      <td>00119</td>\n",
              "      <td>07/01/2019</td>\n",
              "      <td>Despesa com pagamento de aluguel de imóvel par...</td>\n",
              "      <td>6000</td>\n",
              "      <td>2113817</td>\n",
              "    </tr>\n",
              "    <tr>\n",
              "      <th>3</th>\n",
              "      <td>2019</td>\n",
              "      <td>1</td>\n",
              "      <td>ACIR GURGACZ</td>\n",
              "      <td>Aluguel de imóveis para escritório político, c...</td>\n",
              "      <td>05.423.963/0001-11</td>\n",
              "      <td>OI MÓVEL S.A.</td>\n",
              "      <td>86161151</td>\n",
              "      <td>25/12/2018</td>\n",
              "      <td>Despesa com pagamento de telefonia para o escr...</td>\n",
              "      <td>316,39</td>\n",
              "      <td>2116541</td>\n",
              "    </tr>\n",
              "    <tr>\n",
              "      <th>4</th>\n",
              "      <td>2019</td>\n",
              "      <td>2</td>\n",
              "      <td>ACIR GURGACZ</td>\n",
              "      <td>Aluguel de imóveis para escritório político, c...</td>\n",
              "      <td>05.914.650/0001-66</td>\n",
              "      <td>ENERGISA</td>\n",
              "      <td>007236036</td>\n",
              "      <td>04/02/2019</td>\n",
              "      <td>Despesa com pagamento de energia elétrica para...</td>\n",
              "      <td>99,45</td>\n",
              "      <td>2116550</td>\n",
              "    </tr>\n",
              "  </tbody>\n",
              "</table>\n",
              "</div>\n",
              "      <button class=\"colab-df-convert\" onclick=\"convertToInteractive('df-b2bd3f56-7c7e-443e-9033-029118630f8f')\"\n",
              "              title=\"Convert this dataframe to an interactive table.\"\n",
              "              style=\"display:none;\">\n",
              "        \n",
              "  <svg xmlns=\"http://www.w3.org/2000/svg\" height=\"24px\"viewBox=\"0 0 24 24\"\n",
              "       width=\"24px\">\n",
              "    <path d=\"M0 0h24v24H0V0z\" fill=\"none\"/>\n",
              "    <path d=\"M18.56 5.44l.94 2.06.94-2.06 2.06-.94-2.06-.94-.94-2.06-.94 2.06-2.06.94zm-11 1L8.5 8.5l.94-2.06 2.06-.94-2.06-.94L8.5 2.5l-.94 2.06-2.06.94zm10 10l.94 2.06.94-2.06 2.06-.94-2.06-.94-.94-2.06-.94 2.06-2.06.94z\"/><path d=\"M17.41 7.96l-1.37-1.37c-.4-.4-.92-.59-1.43-.59-.52 0-1.04.2-1.43.59L10.3 9.45l-7.72 7.72c-.78.78-.78 2.05 0 2.83L4 21.41c.39.39.9.59 1.41.59.51 0 1.02-.2 1.41-.59l7.78-7.78 2.81-2.81c.8-.78.8-2.07 0-2.86zM5.41 20L4 18.59l7.72-7.72 1.47 1.35L5.41 20z\"/>\n",
              "  </svg>\n",
              "      </button>\n",
              "      \n",
              "  <style>\n",
              "    .colab-df-container {\n",
              "      display:flex;\n",
              "      flex-wrap:wrap;\n",
              "      gap: 12px;\n",
              "    }\n",
              "\n",
              "    .colab-df-convert {\n",
              "      background-color: #E8F0FE;\n",
              "      border: none;\n",
              "      border-radius: 50%;\n",
              "      cursor: pointer;\n",
              "      display: none;\n",
              "      fill: #1967D2;\n",
              "      height: 32px;\n",
              "      padding: 0 0 0 0;\n",
              "      width: 32px;\n",
              "    }\n",
              "\n",
              "    .colab-df-convert:hover {\n",
              "      background-color: #E2EBFA;\n",
              "      box-shadow: 0px 1px 2px rgba(60, 64, 67, 0.3), 0px 1px 3px 1px rgba(60, 64, 67, 0.15);\n",
              "      fill: #174EA6;\n",
              "    }\n",
              "\n",
              "    [theme=dark] .colab-df-convert {\n",
              "      background-color: #3B4455;\n",
              "      fill: #D2E3FC;\n",
              "    }\n",
              "\n",
              "    [theme=dark] .colab-df-convert:hover {\n",
              "      background-color: #434B5C;\n",
              "      box-shadow: 0px 1px 3px 1px rgba(0, 0, 0, 0.15);\n",
              "      filter: drop-shadow(0px 1px 2px rgba(0, 0, 0, 0.3));\n",
              "      fill: #FFFFFF;\n",
              "    }\n",
              "  </style>\n",
              "\n",
              "      <script>\n",
              "        const buttonEl =\n",
              "          document.querySelector('#df-b2bd3f56-7c7e-443e-9033-029118630f8f button.colab-df-convert');\n",
              "        buttonEl.style.display =\n",
              "          google.colab.kernel.accessAllowed ? 'block' : 'none';\n",
              "\n",
              "        async function convertToInteractive(key) {\n",
              "          const element = document.querySelector('#df-b2bd3f56-7c7e-443e-9033-029118630f8f');\n",
              "          const dataTable =\n",
              "            await google.colab.kernel.invokeFunction('convertToInteractive',\n",
              "                                                     [key], {});\n",
              "          if (!dataTable) return;\n",
              "\n",
              "          const docLinkHtml = 'Like what you see? Visit the ' +\n",
              "            '<a target=\"_blank\" href=https://colab.research.google.com/notebooks/data_table.ipynb>data table notebook</a>'\n",
              "            + ' to learn more about interactive tables.';\n",
              "          element.innerHTML = '';\n",
              "          dataTable['output_type'] = 'display_data';\n",
              "          await google.colab.output.renderOutput(dataTable, element);\n",
              "          const docLink = document.createElement('div');\n",
              "          docLink.innerHTML = docLinkHtml;\n",
              "          element.appendChild(docLink);\n",
              "        }\n",
              "      </script>\n",
              "    </div>\n",
              "  </div>\n",
              "  "
            ]
          },
          "metadata": {},
          "execution_count": 6
        }
      ]
    },
    {
      "cell_type": "markdown",
      "source": [
        "Valor_reembolsado"
      ],
      "metadata": {
        "id": "cQdImKZdS28m"
      }
    },
    {
      "cell_type": "code",
      "source": [
        "dados['VALOR_REEMBOLSADO'] = dados['VALOR_REEMBOLSADO'].astype(str)\n",
        "dados['VALOR_REEMBOLSADO'] = dados['VALOR_REEMBOLSADO'].str.replace(',', '.')\n",
        "dados['VALOR_REEMBOLSADO']=dados['VALOR_REEMBOLSADO'].astype(float)"
      ],
      "metadata": {
        "id": "2W_kjhCNSrYA"
      },
      "execution_count": 7,
      "outputs": []
    },
    {
      "cell_type": "markdown",
      "source": [
        "Data"
      ],
      "metadata": {
        "id": "r9VYmd41TqVe"
      }
    },
    {
      "cell_type": "code",
      "source": [
        "(dados['DATA'].str[-4:]).unique() # Algumos anos estão divergentes"
      ],
      "metadata": {
        "colab": {
          "base_uri": "https://localhost:8080/"
        },
        "id": "AXywnPGXT2H-",
        "outputId": "26484ecc-8d6f-445a-b4b7-3db5b9ed3b4e"
      },
      "execution_count": 8,
      "outputs": [
        {
          "output_type": "execute_result",
          "data": {
            "text/plain": [
              "array(['2019', '2018', '2020', '2010', '2009', '0219', '2016', '2014',\n",
              "       '2021', '0202', '2002', '2022', '2000'], dtype=object)"
            ]
          },
          "metadata": {},
          "execution_count": 8
        }
      ]
    },
    {
      "cell_type": "code",
      "source": [
        "dados_correcao=pd.concat([dados[((dados['DATA'].str[-4:]=='0219'))],\n",
        "           dados[((dados['DATA'].str[-4:]=='2000'))],\n",
        "           dados[((dados['DATA'].str[-4:]=='2016'))],\n",
        "           dados[((dados['DATA'].str[-4:]=='2014'))],\n",
        "           dados[((dados['DATA'].str[-4:]=='2009'))],\n",
        "           dados[((dados['DATA'].str[-4:]=='2010'))],\n",
        "           dados[((dados['DATA'].str[-4:]=='2002'))],\n",
        "           dados[((dados['DATA'].str[-4:]=='0202'))]]) # Em casos de gastos fora do atual mandato vamos mudar o ano para o ano virgente, exceto o ano de 2018\n",
        "dados_correcao.head(5)"
      ],
      "metadata": {
        "colab": {
          "base_uri": "https://localhost:8080/",
          "height": 441
        },
        "id": "i0oLOgW4WWi-",
        "outputId": "ac8c6921-f757-4926-d5b1-a5715141548c"
      },
      "execution_count": 9,
      "outputs": [
        {
          "output_type": "execute_result",
          "data": {
            "text/plain": [
              "        ANO MES              SENADOR  \\\n",
              "10986  2019   1          LÚCIA VÂNIA   \n",
              "56471  2022  12      ESPERIDIÃO AMIN   \n",
              "14373  2019  12  ORIOVISTO GUIMARÃES   \n",
              "15171  2019   1          PAULO ROCHA   \n",
              "25370  2020   6    FABIANO CONTARATO   \n",
              "\n",
              "                                             TIPO_DEFESA            CNPJ_CPF  \\\n",
              "10986  Aluguel de imóveis para escritório político, c...  08.573.731/0001-38   \n",
              "56471  Passagens aéreas, aquáticas e terrestres nacio...  00.556.066/0001-62   \n",
              "14373  Aluguel de imóveis para escritório político, c...  02.804.267/0001-67   \n",
              "15171  Passagens aéreas, aquáticas e terrestres nacio...  16.978.175/0001-08   \n",
              "25370  Aluguel de imóveis para escritório político, c...  22.693.574/0001-25   \n",
              "\n",
              "                                              FORNECEDOR   DOCUMENTO  \\\n",
              "10986  LDE Contabilidade e Administração de Condomíni...     0107007   \n",
              "56471                    FIBRATUR TURISMO E VIAGENS LTDA      SUNHPY   \n",
              "14373               CH Franco Administracao de Bens Ltda         s/n   \n",
              "15171                       Adria Viagens e Turismo Ltda  FT00013714   \n",
              "25370                                     VALORI IMÓVEIS         NaN   \n",
              "\n",
              "             DATA                                       DETALHAMENTO  \\\n",
              "10986  31/01/0219                                   Taxa condominial   \n",
              "56471  08/12/2000  Companhia Aérea: LATAM, Localizador: SUNHPY. P...   \n",
              "14373  06/01/2016  Aluguel do escritório parlamentar em Curitiba/PR.   \n",
              "15171  08/01/2014  Companhia Aérea: AZUL, Localizador: JGTIGA. Pa...   \n",
              "25370  06/07/2014  DESPESA COM ALUGUEL DAS INSTALAÇÕES DO ESCRITÓ...   \n",
              "\n",
              "       VALOR_REEMBOLSADO COD_DOCUMENTO  \n",
              "10986             271.26       2114251  \n",
              "56471            1070.92       2191697  \n",
              "14373            3800.00       2141992  \n",
              "15171             864.16       2114683  \n",
              "25370            2400.00       2146572  "
            ],
            "text/html": [
              "\n",
              "  <div id=\"df-609f7ca0-1352-45b8-9c0d-324badb52040\">\n",
              "    <div class=\"colab-df-container\">\n",
              "      <div>\n",
              "<style scoped>\n",
              "    .dataframe tbody tr th:only-of-type {\n",
              "        vertical-align: middle;\n",
              "    }\n",
              "\n",
              "    .dataframe tbody tr th {\n",
              "        vertical-align: top;\n",
              "    }\n",
              "\n",
              "    .dataframe thead th {\n",
              "        text-align: right;\n",
              "    }\n",
              "</style>\n",
              "<table border=\"1\" class=\"dataframe\">\n",
              "  <thead>\n",
              "    <tr style=\"text-align: right;\">\n",
              "      <th></th>\n",
              "      <th>ANO</th>\n",
              "      <th>MES</th>\n",
              "      <th>SENADOR</th>\n",
              "      <th>TIPO_DEFESA</th>\n",
              "      <th>CNPJ_CPF</th>\n",
              "      <th>FORNECEDOR</th>\n",
              "      <th>DOCUMENTO</th>\n",
              "      <th>DATA</th>\n",
              "      <th>DETALHAMENTO</th>\n",
              "      <th>VALOR_REEMBOLSADO</th>\n",
              "      <th>COD_DOCUMENTO</th>\n",
              "    </tr>\n",
              "  </thead>\n",
              "  <tbody>\n",
              "    <tr>\n",
              "      <th>10986</th>\n",
              "      <td>2019</td>\n",
              "      <td>1</td>\n",
              "      <td>LÚCIA VÂNIA</td>\n",
              "      <td>Aluguel de imóveis para escritório político, c...</td>\n",
              "      <td>08.573.731/0001-38</td>\n",
              "      <td>LDE Contabilidade e Administração de Condomíni...</td>\n",
              "      <td>0107007</td>\n",
              "      <td>31/01/0219</td>\n",
              "      <td>Taxa condominial</td>\n",
              "      <td>271.26</td>\n",
              "      <td>2114251</td>\n",
              "    </tr>\n",
              "    <tr>\n",
              "      <th>56471</th>\n",
              "      <td>2022</td>\n",
              "      <td>12</td>\n",
              "      <td>ESPERIDIÃO AMIN</td>\n",
              "      <td>Passagens aéreas, aquáticas e terrestres nacio...</td>\n",
              "      <td>00.556.066/0001-62</td>\n",
              "      <td>FIBRATUR TURISMO E VIAGENS LTDA</td>\n",
              "      <td>SUNHPY</td>\n",
              "      <td>08/12/2000</td>\n",
              "      <td>Companhia Aérea: LATAM, Localizador: SUNHPY. P...</td>\n",
              "      <td>1070.92</td>\n",
              "      <td>2191697</td>\n",
              "    </tr>\n",
              "    <tr>\n",
              "      <th>14373</th>\n",
              "      <td>2019</td>\n",
              "      <td>12</td>\n",
              "      <td>ORIOVISTO GUIMARÃES</td>\n",
              "      <td>Aluguel de imóveis para escritório político, c...</td>\n",
              "      <td>02.804.267/0001-67</td>\n",
              "      <td>CH Franco Administracao de Bens Ltda</td>\n",
              "      <td>s/n</td>\n",
              "      <td>06/01/2016</td>\n",
              "      <td>Aluguel do escritório parlamentar em Curitiba/PR.</td>\n",
              "      <td>3800.00</td>\n",
              "      <td>2141992</td>\n",
              "    </tr>\n",
              "    <tr>\n",
              "      <th>15171</th>\n",
              "      <td>2019</td>\n",
              "      <td>1</td>\n",
              "      <td>PAULO ROCHA</td>\n",
              "      <td>Passagens aéreas, aquáticas e terrestres nacio...</td>\n",
              "      <td>16.978.175/0001-08</td>\n",
              "      <td>Adria Viagens e Turismo Ltda</td>\n",
              "      <td>FT00013714</td>\n",
              "      <td>08/01/2014</td>\n",
              "      <td>Companhia Aérea: AZUL, Localizador: JGTIGA. Pa...</td>\n",
              "      <td>864.16</td>\n",
              "      <td>2114683</td>\n",
              "    </tr>\n",
              "    <tr>\n",
              "      <th>25370</th>\n",
              "      <td>2020</td>\n",
              "      <td>6</td>\n",
              "      <td>FABIANO CONTARATO</td>\n",
              "      <td>Aluguel de imóveis para escritório político, c...</td>\n",
              "      <td>22.693.574/0001-25</td>\n",
              "      <td>VALORI IMÓVEIS</td>\n",
              "      <td>NaN</td>\n",
              "      <td>06/07/2014</td>\n",
              "      <td>DESPESA COM ALUGUEL DAS INSTALAÇÕES DO ESCRITÓ...</td>\n",
              "      <td>2400.00</td>\n",
              "      <td>2146572</td>\n",
              "    </tr>\n",
              "  </tbody>\n",
              "</table>\n",
              "</div>\n",
              "      <button class=\"colab-df-convert\" onclick=\"convertToInteractive('df-609f7ca0-1352-45b8-9c0d-324badb52040')\"\n",
              "              title=\"Convert this dataframe to an interactive table.\"\n",
              "              style=\"display:none;\">\n",
              "        \n",
              "  <svg xmlns=\"http://www.w3.org/2000/svg\" height=\"24px\"viewBox=\"0 0 24 24\"\n",
              "       width=\"24px\">\n",
              "    <path d=\"M0 0h24v24H0V0z\" fill=\"none\"/>\n",
              "    <path d=\"M18.56 5.44l.94 2.06.94-2.06 2.06-.94-2.06-.94-.94-2.06-.94 2.06-2.06.94zm-11 1L8.5 8.5l.94-2.06 2.06-.94-2.06-.94L8.5 2.5l-.94 2.06-2.06.94zm10 10l.94 2.06.94-2.06 2.06-.94-2.06-.94-.94-2.06-.94 2.06-2.06.94z\"/><path d=\"M17.41 7.96l-1.37-1.37c-.4-.4-.92-.59-1.43-.59-.52 0-1.04.2-1.43.59L10.3 9.45l-7.72 7.72c-.78.78-.78 2.05 0 2.83L4 21.41c.39.39.9.59 1.41.59.51 0 1.02-.2 1.41-.59l7.78-7.78 2.81-2.81c.8-.78.8-2.07 0-2.86zM5.41 20L4 18.59l7.72-7.72 1.47 1.35L5.41 20z\"/>\n",
              "  </svg>\n",
              "      </button>\n",
              "      \n",
              "  <style>\n",
              "    .colab-df-container {\n",
              "      display:flex;\n",
              "      flex-wrap:wrap;\n",
              "      gap: 12px;\n",
              "    }\n",
              "\n",
              "    .colab-df-convert {\n",
              "      background-color: #E8F0FE;\n",
              "      border: none;\n",
              "      border-radius: 50%;\n",
              "      cursor: pointer;\n",
              "      display: none;\n",
              "      fill: #1967D2;\n",
              "      height: 32px;\n",
              "      padding: 0 0 0 0;\n",
              "      width: 32px;\n",
              "    }\n",
              "\n",
              "    .colab-df-convert:hover {\n",
              "      background-color: #E2EBFA;\n",
              "      box-shadow: 0px 1px 2px rgba(60, 64, 67, 0.3), 0px 1px 3px 1px rgba(60, 64, 67, 0.15);\n",
              "      fill: #174EA6;\n",
              "    }\n",
              "\n",
              "    [theme=dark] .colab-df-convert {\n",
              "      background-color: #3B4455;\n",
              "      fill: #D2E3FC;\n",
              "    }\n",
              "\n",
              "    [theme=dark] .colab-df-convert:hover {\n",
              "      background-color: #434B5C;\n",
              "      box-shadow: 0px 1px 3px 1px rgba(0, 0, 0, 0.15);\n",
              "      filter: drop-shadow(0px 1px 2px rgba(0, 0, 0, 0.3));\n",
              "      fill: #FFFFFF;\n",
              "    }\n",
              "  </style>\n",
              "\n",
              "      <script>\n",
              "        const buttonEl =\n",
              "          document.querySelector('#df-609f7ca0-1352-45b8-9c0d-324badb52040 button.colab-df-convert');\n",
              "        buttonEl.style.display =\n",
              "          google.colab.kernel.accessAllowed ? 'block' : 'none';\n",
              "\n",
              "        async function convertToInteractive(key) {\n",
              "          const element = document.querySelector('#df-609f7ca0-1352-45b8-9c0d-324badb52040');\n",
              "          const dataTable =\n",
              "            await google.colab.kernel.invokeFunction('convertToInteractive',\n",
              "                                                     [key], {});\n",
              "          if (!dataTable) return;\n",
              "\n",
              "          const docLinkHtml = 'Like what you see? Visit the ' +\n",
              "            '<a target=\"_blank\" href=https://colab.research.google.com/notebooks/data_table.ipynb>data table notebook</a>'\n",
              "            + ' to learn more about interactive tables.';\n",
              "          element.innerHTML = '';\n",
              "          dataTable['output_type'] = 'display_data';\n",
              "          await google.colab.output.renderOutput(dataTable, element);\n",
              "          const docLink = document.createElement('div');\n",
              "          docLink.innerHTML = docLinkHtml;\n",
              "          element.appendChild(docLink);\n",
              "        }\n",
              "      </script>\n",
              "    </div>\n",
              "  </div>\n",
              "  "
            ]
          },
          "metadata": {},
          "execution_count": 9
        }
      ]
    },
    {
      "cell_type": "code",
      "source": [
        "dados_normais=pd.concat([dados[((dados['DATA'].str[-4:]=='2018'))],\n",
        "           dados[((dados['DATA'].str[-4:]=='2019'))],\n",
        "           dados[((dados['DATA'].str[-4:]=='2020'))],\n",
        "           dados[((dados['DATA'].str[-4:]=='2021'))],\n",
        "           dados[((dados['DATA'].str[-4:]=='2022'))]])"
      ],
      "metadata": {
        "id": "Jwh_EWAHXyMs"
      },
      "execution_count": 10,
      "outputs": []
    },
    {
      "cell_type": "code",
      "source": [
        "dados_correcao['DATA']=dados_correcao['DATA'].str[:6] + dados_correcao['ANO']"
      ],
      "metadata": {
        "id": "jeBc-ld9c5Wx"
      },
      "execution_count": 11,
      "outputs": []
    },
    {
      "cell_type": "code",
      "source": [
        "dados=pd.concat([dados_normais,dados_correcao], ignore_index=True)"
      ],
      "metadata": {
        "id": "zltyHMh8dnT_"
      },
      "execution_count": 12,
      "outputs": []
    },
    {
      "cell_type": "code",
      "source": [
        "dados['DATA']=pd.to_datetime(dados['DATA'])"
      ],
      "metadata": {
        "id": "n1-pCvmYd_SR"
      },
      "execution_count": 13,
      "outputs": []
    },
    {
      "cell_type": "markdown",
      "source": [
        "Colunas com muitos dados diferentes :\n",
        "\n",
        "CNPJ_CPF,COD_DOCUMENTO, FORNECEDOR,DETALHAMENTO"
      ],
      "metadata": {
        "id": "7VwOSQ77fSQu"
      }
    },
    {
      "cell_type": "code",
      "source": [
        "print('CNPJ_CPF: ',(pd.DataFrame((dados['CNPJ_CPF']).value_counts()).sort_values(by='CNPJ_CPF')).shape) # Existem muitos dados diferentes nessa coluna, então para criação de modelos ela não precisa ser usada\n",
        "print('COD_DOCUMENTO: ',(pd.DataFrame((dados['COD_DOCUMENTO']).value_counts()).sort_values(by='COD_DOCUMENTO')).shape) # Existem muitos dados diferentes nessa coluna, então para criação de modelos ela não precisa ser usada\n",
        "print('FORNECEDOR: ',(pd.DataFrame((dados['FORNECEDOR']).value_counts()).sort_values(by='FORNECEDOR')).shape) # Existem muitos dados diferentes nessa coluna, então para criação de modelos ela não precisa ser usada\n",
        "print('DETALHAMENTO: ',(pd.DataFrame((dados['DETALHAMENTO']).value_counts()).sort_values(by='DETALHAMENTO')).shape) # Existem muitos dados diferentes nessa coluna, então para criação de modelos ela não precisa ser usada\n",
        "print('DOCUMENTO: ',(pd.DataFrame((dados['DOCUMENTO']).value_counts()).sort_values(by='DOCUMENTO')).shape) # Existem muitos dados diferentes nessa coluna, então para criação de modelos ela não precisa ser usada"
      ],
      "metadata": {
        "colab": {
          "base_uri": "https://localhost:8080/"
        },
        "id": "lHpJih57fRKv",
        "outputId": "fa383dcf-ed6a-441e-f072-ba42445af1c4"
      },
      "execution_count": 14,
      "outputs": [
        {
          "output_type": "stream",
          "name": "stdout",
          "text": [
            "CNPJ_CPF:  (7619, 1)\n",
            "COD_DOCUMENTO:  (68648, 1)\n",
            "FORNECEDOR:  (8619, 1)\n",
            "DETALHAMENTO:  (22288, 1)\n",
            "DOCUMENTO:  (54855, 1)\n"
          ]
        }
      ]
    },
    {
      "cell_type": "code",
      "source": [
        "dados=dados.drop(['CNPJ_CPF','COD_DOCUMENTO', 'FORNECEDOR','DETALHAMENTO','DOCUMENTO'], axis=1)"
      ],
      "metadata": {
        "id": "vSEyMR3fJqFl"
      },
      "execution_count": 15,
      "outputs": []
    },
    {
      "cell_type": "markdown",
      "source": [
        "ANO e MES\n",
        "\n",
        "Já existe uma coluna com data então não há necessidade dessas duas colunas"
      ],
      "metadata": {
        "id": "PpFwDLi5N5PR"
      }
    },
    {
      "cell_type": "code",
      "source": [
        "dados=dados.drop(['ANO',\"MES\"], axis=1)"
      ],
      "metadata": {
        "id": "J93RkzodMQIa"
      },
      "execution_count": 16,
      "outputs": []
    },
    {
      "cell_type": "code",
      "source": [
        "dados.info() # Resultado Final"
      ],
      "metadata": {
        "colab": {
          "base_uri": "https://localhost:8080/"
        },
        "id": "HyGKXL3POMTp",
        "outputId": "ebead510-e864-4e82-da32-c5a64e9561a3"
      },
      "execution_count": 17,
      "outputs": [
        {
          "output_type": "stream",
          "name": "stdout",
          "text": [
            "<class 'pandas.core.frame.DataFrame'>\n",
            "RangeIndex: 68648 entries, 0 to 68647\n",
            "Data columns (total 4 columns):\n",
            " #   Column             Non-Null Count  Dtype         \n",
            "---  ------             --------------  -----         \n",
            " 0   SENADOR            68648 non-null  object        \n",
            " 1   TIPO_DEFESA        68648 non-null  object        \n",
            " 2   DATA               68648 non-null  datetime64[ns]\n",
            " 3   VALOR_REEMBOLSADO  68648 non-null  float64       \n",
            "dtypes: datetime64[ns](1), float64(1), object(2)\n",
            "memory usage: 2.1+ MB\n"
          ]
        }
      ]
    },
    {
      "cell_type": "code",
      "source": [
        "dados.to_csv('ceaps.csv') # Salvando os dados"
      ],
      "metadata": {
        "id": "z21LXChBdoSY"
      },
      "execution_count": 20,
      "outputs": []
    }
  ]
}