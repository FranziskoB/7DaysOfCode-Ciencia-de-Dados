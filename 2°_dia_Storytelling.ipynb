{
  "nbformat": 4,
  "nbformat_minor": 0,
  "metadata": {
    "colab": {
      "provenance": [],
      "collapsed_sections": [
        "cafEz_TOpNpd"
      ],
      "authorship_tag": "ABX9TyN7HsfPJb4u0BdXtoW87rZh",
      "include_colab_link": true
    },
    "kernelspec": {
      "name": "python3",
      "display_name": "Python 3"
    },
    "language_info": {
      "name": "python"
    }
  },
  "cells": [
    {
      "cell_type": "markdown",
      "metadata": {
        "id": "view-in-github",
        "colab_type": "text"
      },
      "source": [
        "<a href=\"https://colab.research.google.com/github/FranziskoB/7DaysOfCode-Ciencia-de-Dados/blob/main/2%C2%B0_dia_Storytelling.ipynb\" target=\"_parent\"><img src=\"https://colab.research.google.com/assets/colab-badge.svg\" alt=\"Open In Colab\"/></a>"
      ]
    },
    {
      "cell_type": "markdown",
      "source": [
        "# Data Wrangling"
      ],
      "metadata": {
        "id": "wqxROPxUqVlj"
      }
    },
    {
      "cell_type": "markdown",
      "source": [
        "### Descrição do dataset\n",
        "Cota para Exercício da Atividade Parlamentar dos Senadores:\n",
        "\n",
        "A Cota para o Exercício da Atividade Parlamentar é uma verba indenizatória à qual os 513 deputados federais e os 81 senadores têm direito para custear as despesas do mandato, com passagens aéreas, telefonia, manutenção de escritórios parlamentares, alimentação, hospedagem, locação de veículos, segurança, divulgação da atividade parlamentar e combustíveis.\n"
      ],
      "metadata": {
        "id": "0GFOdpDSpEB8"
      }
    },
    {
      "cell_type": "markdown",
      "source": [
        "### Importação das bibliotecas"
      ],
      "metadata": {
        "id": "kOZpVvG2q1VK"
      }
    },
    {
      "cell_type": "code",
      "source": [
        "import pandas as pd\n",
        "import plotly.graph_objs as go\n",
        "import plotly.offline as py"
      ],
      "metadata": {
        "id": "fOzI7ZvNq6Dz"
      },
      "execution_count": 5,
      "outputs": []
    },
    {
      "cell_type": "markdown",
      "source": [
        "### Importação dos dados tratados"
      ],
      "metadata": {
        "id": "cafEz_TOpNpd"
      }
    },
    {
      "cell_type": "code",
      "execution_count": 6,
      "metadata": {
        "id": "IAhWCSz8oof9"
      },
      "outputs": [],
      "source": [
        "dados=pd.read_csv('https://github.com/FranziskoB/7DaysOfCode-Ciencia-de-Dados/raw/main/Dados/ceaps.csv')\n"
      ]
    },
    {
      "cell_type": "code",
      "source": [
        "dados=dados.drop(['Unnamed: 0'], axis=1)"
      ],
      "metadata": {
        "id": "eZ5-WgK9jd_S"
      },
      "execution_count": 7,
      "outputs": []
    },
    {
      "cell_type": "code",
      "source": [
        "dados['DATA']=pd.to_datetime(dados['DATA'])"
      ],
      "metadata": {
        "id": "AAtuVKzUIeJ9"
      },
      "execution_count": 8,
      "outputs": []
    },
    {
      "cell_type": "markdown",
      "source": [
        "##Gráficos"
      ],
      "metadata": {
        "id": "Fba3YgMiOAZT"
      }
    },
    {
      "cell_type": "markdown",
      "source": [
        "Quais foram os senadores que mais gastaram o dinheiro público nos ultimos anos?"
      ],
      "metadata": {
        "id": "99p1xAhWkjtK"
      }
    },
    {
      "cell_type": "code",
      "source": [
        "dados['Ano']=dados['DATA'].dt.year"
      ],
      "metadata": {
        "id": "T6BQHOkaJmBk"
      },
      "execution_count": 9,
      "outputs": []
    },
    {
      "cell_type": "code",
      "source": [
        "dados_ano=dados.groupby(['Ano','SENADOR']).sum().reset_index()"
      ],
      "metadata": {
        "id": "rkXnOAvQlfWB"
      },
      "execution_count": 10,
      "outputs": []
    },
    {
      "cell_type": "code",
      "source": [
        "gasto_2019=dados_ano[dados_ano['Ano']==2019].sort_values(by='VALOR_REEMBOLSADO',ascending=False).iloc[0:3]\n",
        "gasto_2020=dados_ano[dados_ano['Ano']==2020].sort_values(by='VALOR_REEMBOLSADO',ascending=False).iloc[0:3]\n",
        "gasto_2021=dados_ano[dados_ano['Ano']==2021].sort_values(by='VALOR_REEMBOLSADO',ascending=False).iloc[0:3]\n",
        "gasto_2022=dados_ano[dados_ano['Ano']==2022].sort_values(by='VALOR_REEMBOLSADO',ascending=False).iloc[0:3]"
      ],
      "metadata": {
        "id": "tR-O0smtLQn7"
      },
      "execution_count": 11,
      "outputs": []
    },
    {
      "cell_type": "code",
      "source": [
        "trace1 = go.Bar(x = ['2019', '2020', '2021','2022'],\n",
        "                y = [gasto_2019.iloc[0:1]['VALOR_REEMBOLSADO'].sum(),\n",
        "                     gasto_2020.iloc[0:1]['VALOR_REEMBOLSADO'].sum(), \n",
        "                     gasto_2021.iloc[0:1]['VALOR_REEMBOLSADO'].sum(),\n",
        "                     gasto_2022.iloc[0:1]['VALOR_REEMBOLSADO'].sum()],\n",
        "                \n",
        "                text=[gasto_2019.iloc[0:1]['SENADOR'].sum(),\n",
        "                      gasto_2020.iloc[0:1]['SENADOR'].sum(), \n",
        "                      gasto_2021.iloc[0:1]['SENADOR'].sum(),\n",
        "                      gasto_2022.iloc[0:1]['SENADOR'].sum()],\n",
        "                name = 'Primeiro lugar',\n",
        "                marker = {'color': '#ffd700'})\n",
        "trace2 = go.Bar(x = ['2019', '2020', '2021','2022'],\n",
        "                y = [gasto_2019.iloc[1:2]['VALOR_REEMBOLSADO'].sum(),\n",
        "                     gasto_2020.iloc[1:2]['VALOR_REEMBOLSADO'].sum(), \n",
        "                     gasto_2021.iloc[1:2]['VALOR_REEMBOLSADO'].sum(),\n",
        "                     gasto_2022.iloc[1:2]['VALOR_REEMBOLSADO'].sum()],\n",
        "                \n",
        "                text=[gasto_2019.iloc[1:2]['SENADOR'].sum(),\n",
        "                      gasto_2020.iloc[1:2]['SENADOR'].sum(), \n",
        "                      gasto_2021.iloc[1:2]['SENADOR'].sum(),\n",
        "                      gasto_2022.iloc[1:2]['SENADOR'].sum()],\n",
        "                name = 'Segundo lugar',\n",
        "                marker = {'color': '#c0c0c0'})\n",
        "\n",
        "trace3 = go.Bar(x = ['2019', '2020', '2021','2022'],\n",
        "                y = [gasto_2019.iloc[2:3]['VALOR_REEMBOLSADO'].sum(),\n",
        "                     gasto_2020.iloc[2:3]['VALOR_REEMBOLSADO'].sum(), \n",
        "                     gasto_2021.iloc[2:3]['VALOR_REEMBOLSADO'].sum(),\n",
        "                     gasto_2022.iloc[2:3]['VALOR_REEMBOLSADO'].sum()],\n",
        "                \n",
        "                text=[gasto_2019.iloc[2:3]['SENADOR'].sum(),\n",
        "                      gasto_2020.iloc[2:3]['SENADOR'].sum(), \n",
        "                      gasto_2021.iloc[2:3]['SENADOR'].sum(),\n",
        "                      gasto_2022.iloc[2:3]['SENADOR'].sum()],\n",
        "                name='Terceiro lugar',\n",
        "                marker = {'color': '#CD7F32'})\n",
        "\n",
        "data = [trace1, trace2,trace3]\n",
        "\n",
        "layout = go.Layout(title='Pódio de gastos de dinhero público com verba parlamentar',\n",
        "                   yaxis={'title':'Valor gasto pelos senadores'})\n",
        "fig = go.Figure(data=data, layout=layout,layout_yaxis_range=[200000,1000000])\n",
        "py.iplot(fig)\n",
        "\n"
      ],
      "metadata": {
        "id": "GWs9cvmOH2D0",
        "colab": {
          "base_uri": "https://localhost:8080/",
          "height": 542
        },
        "outputId": "31837bfc-a539-4dc0-fb63-46790ef29e6b"
      },
      "execution_count": 25,
      "outputs": [
        {
          "output_type": "display_data",
          "data": {
            "text/html": [
              "<html>\n",
              "<head><meta charset=\"utf-8\" /></head>\n",
              "<body>\n",
              "    <div>            <script src=\"https://cdnjs.cloudflare.com/ajax/libs/mathjax/2.7.5/MathJax.js?config=TeX-AMS-MML_SVG\"></script><script type=\"text/javascript\">if (window.MathJax) {MathJax.Hub.Config({SVG: {font: \"STIX-Web\"}});}</script>                <script type=\"text/javascript\">window.PlotlyConfig = {MathJaxConfig: 'local'};</script>\n",
              "        <script src=\"https://cdn.plot.ly/plotly-2.8.3.min.js\"></script>                <div id=\"301c86a1-45d0-4034-b71e-fe513db00e09\" class=\"plotly-graph-div\" style=\"height:525px; width:100%;\"></div>            <script type=\"text/javascript\">                                    window.PLOTLYENV=window.PLOTLYENV || {};                                    if (document.getElementById(\"301c86a1-45d0-4034-b71e-fe513db00e09\")) {                    Plotly.newPlot(                        \"301c86a1-45d0-4034-b71e-fe513db00e09\",                        [{\"marker\":{\"color\":\"#ffd700\"},\"name\":\"Primeiro lugar\",\"text\":[\"OMAR AZIZ\",\"ROG\\u00c9RIO CARVALHO\",\"DAVI ALCOLUMBRE\",\"DAVI ALCOLUMBRE\"],\"x\":[\"2019\",\"2020\",\"2021\",\"2022\"],\"y\":[531315.99,503474.45,885970.92,583564.54],\"type\":\"bar\"},{\"marker\":{\"color\":\"#c0c0c0\"},\"name\":\"Segundo lugar\",\"text\":[\"EDUARDO BRAGA\",\"TELM\\u00c1RIO MOTA\",\"OMAR AZIZ\",\"ELMANO F\\u00c9RRER\"],\"x\":[\"2019\",\"2020\",\"2021\",\"2022\"],\"y\":[519561.65,489290.07,527681.3099999999,503507.69],\"type\":\"bar\"},{\"marker\":{\"color\":\"#CD7F32\"},\"name\":\"Terceiro lugar\",\"text\":[\"PAULO ROCHA\",\"MECIAS DE JESUS\",\"LUCAS BARRETO\",\"OMAR AZIZ\"],\"x\":[\"2019\",\"2020\",\"2021\",\"2022\"],\"y\":[488377.17,475597.77,504906.21,487541.24],\"type\":\"bar\"}],                        {\"template\":{\"data\":{\"barpolar\":[{\"marker\":{\"line\":{\"color\":\"#E5ECF6\",\"width\":0.5},\"pattern\":{\"fillmode\":\"overlay\",\"size\":10,\"solidity\":0.2}},\"type\":\"barpolar\"}],\"bar\":[{\"error_x\":{\"color\":\"#2a3f5f\"},\"error_y\":{\"color\":\"#2a3f5f\"},\"marker\":{\"line\":{\"color\":\"#E5ECF6\",\"width\":0.5},\"pattern\":{\"fillmode\":\"overlay\",\"size\":10,\"solidity\":0.2}},\"type\":\"bar\"}],\"carpet\":[{\"aaxis\":{\"endlinecolor\":\"#2a3f5f\",\"gridcolor\":\"white\",\"linecolor\":\"white\",\"minorgridcolor\":\"white\",\"startlinecolor\":\"#2a3f5f\"},\"baxis\":{\"endlinecolor\":\"#2a3f5f\",\"gridcolor\":\"white\",\"linecolor\":\"white\",\"minorgridcolor\":\"white\",\"startlinecolor\":\"#2a3f5f\"},\"type\":\"carpet\"}],\"choropleth\":[{\"colorbar\":{\"outlinewidth\":0,\"ticks\":\"\"},\"type\":\"choropleth\"}],\"contourcarpet\":[{\"colorbar\":{\"outlinewidth\":0,\"ticks\":\"\"},\"type\":\"contourcarpet\"}],\"contour\":[{\"colorbar\":{\"outlinewidth\":0,\"ticks\":\"\"},\"colorscale\":[[0.0,\"#0d0887\"],[0.1111111111111111,\"#46039f\"],[0.2222222222222222,\"#7201a8\"],[0.3333333333333333,\"#9c179e\"],[0.4444444444444444,\"#bd3786\"],[0.5555555555555556,\"#d8576b\"],[0.6666666666666666,\"#ed7953\"],[0.7777777777777778,\"#fb9f3a\"],[0.8888888888888888,\"#fdca26\"],[1.0,\"#f0f921\"]],\"type\":\"contour\"}],\"heatmapgl\":[{\"colorbar\":{\"outlinewidth\":0,\"ticks\":\"\"},\"colorscale\":[[0.0,\"#0d0887\"],[0.1111111111111111,\"#46039f\"],[0.2222222222222222,\"#7201a8\"],[0.3333333333333333,\"#9c179e\"],[0.4444444444444444,\"#bd3786\"],[0.5555555555555556,\"#d8576b\"],[0.6666666666666666,\"#ed7953\"],[0.7777777777777778,\"#fb9f3a\"],[0.8888888888888888,\"#fdca26\"],[1.0,\"#f0f921\"]],\"type\":\"heatmapgl\"}],\"heatmap\":[{\"colorbar\":{\"outlinewidth\":0,\"ticks\":\"\"},\"colorscale\":[[0.0,\"#0d0887\"],[0.1111111111111111,\"#46039f\"],[0.2222222222222222,\"#7201a8\"],[0.3333333333333333,\"#9c179e\"],[0.4444444444444444,\"#bd3786\"],[0.5555555555555556,\"#d8576b\"],[0.6666666666666666,\"#ed7953\"],[0.7777777777777778,\"#fb9f3a\"],[0.8888888888888888,\"#fdca26\"],[1.0,\"#f0f921\"]],\"type\":\"heatmap\"}],\"histogram2dcontour\":[{\"colorbar\":{\"outlinewidth\":0,\"ticks\":\"\"},\"colorscale\":[[0.0,\"#0d0887\"],[0.1111111111111111,\"#46039f\"],[0.2222222222222222,\"#7201a8\"],[0.3333333333333333,\"#9c179e\"],[0.4444444444444444,\"#bd3786\"],[0.5555555555555556,\"#d8576b\"],[0.6666666666666666,\"#ed7953\"],[0.7777777777777778,\"#fb9f3a\"],[0.8888888888888888,\"#fdca26\"],[1.0,\"#f0f921\"]],\"type\":\"histogram2dcontour\"}],\"histogram2d\":[{\"colorbar\":{\"outlinewidth\":0,\"ticks\":\"\"},\"colorscale\":[[0.0,\"#0d0887\"],[0.1111111111111111,\"#46039f\"],[0.2222222222222222,\"#7201a8\"],[0.3333333333333333,\"#9c179e\"],[0.4444444444444444,\"#bd3786\"],[0.5555555555555556,\"#d8576b\"],[0.6666666666666666,\"#ed7953\"],[0.7777777777777778,\"#fb9f3a\"],[0.8888888888888888,\"#fdca26\"],[1.0,\"#f0f921\"]],\"type\":\"histogram2d\"}],\"histogram\":[{\"marker\":{\"pattern\":{\"fillmode\":\"overlay\",\"size\":10,\"solidity\":0.2}},\"type\":\"histogram\"}],\"mesh3d\":[{\"colorbar\":{\"outlinewidth\":0,\"ticks\":\"\"},\"type\":\"mesh3d\"}],\"parcoords\":[{\"line\":{\"colorbar\":{\"outlinewidth\":0,\"ticks\":\"\"}},\"type\":\"parcoords\"}],\"pie\":[{\"automargin\":true,\"type\":\"pie\"}],\"scatter3d\":[{\"line\":{\"colorbar\":{\"outlinewidth\":0,\"ticks\":\"\"}},\"marker\":{\"colorbar\":{\"outlinewidth\":0,\"ticks\":\"\"}},\"type\":\"scatter3d\"}],\"scattercarpet\":[{\"marker\":{\"colorbar\":{\"outlinewidth\":0,\"ticks\":\"\"}},\"type\":\"scattercarpet\"}],\"scattergeo\":[{\"marker\":{\"colorbar\":{\"outlinewidth\":0,\"ticks\":\"\"}},\"type\":\"scattergeo\"}],\"scattergl\":[{\"marker\":{\"colorbar\":{\"outlinewidth\":0,\"ticks\":\"\"}},\"type\":\"scattergl\"}],\"scattermapbox\":[{\"marker\":{\"colorbar\":{\"outlinewidth\":0,\"ticks\":\"\"}},\"type\":\"scattermapbox\"}],\"scatterpolargl\":[{\"marker\":{\"colorbar\":{\"outlinewidth\":0,\"ticks\":\"\"}},\"type\":\"scatterpolargl\"}],\"scatterpolar\":[{\"marker\":{\"colorbar\":{\"outlinewidth\":0,\"ticks\":\"\"}},\"type\":\"scatterpolar\"}],\"scatter\":[{\"marker\":{\"colorbar\":{\"outlinewidth\":0,\"ticks\":\"\"}},\"type\":\"scatter\"}],\"scatterternary\":[{\"marker\":{\"colorbar\":{\"outlinewidth\":0,\"ticks\":\"\"}},\"type\":\"scatterternary\"}],\"surface\":[{\"colorbar\":{\"outlinewidth\":0,\"ticks\":\"\"},\"colorscale\":[[0.0,\"#0d0887\"],[0.1111111111111111,\"#46039f\"],[0.2222222222222222,\"#7201a8\"],[0.3333333333333333,\"#9c179e\"],[0.4444444444444444,\"#bd3786\"],[0.5555555555555556,\"#d8576b\"],[0.6666666666666666,\"#ed7953\"],[0.7777777777777778,\"#fb9f3a\"],[0.8888888888888888,\"#fdca26\"],[1.0,\"#f0f921\"]],\"type\":\"surface\"}],\"table\":[{\"cells\":{\"fill\":{\"color\":\"#EBF0F8\"},\"line\":{\"color\":\"white\"}},\"header\":{\"fill\":{\"color\":\"#C8D4E3\"},\"line\":{\"color\":\"white\"}},\"type\":\"table\"}]},\"layout\":{\"annotationdefaults\":{\"arrowcolor\":\"#2a3f5f\",\"arrowhead\":0,\"arrowwidth\":1},\"autotypenumbers\":\"strict\",\"coloraxis\":{\"colorbar\":{\"outlinewidth\":0,\"ticks\":\"\"}},\"colorscale\":{\"diverging\":[[0,\"#8e0152\"],[0.1,\"#c51b7d\"],[0.2,\"#de77ae\"],[0.3,\"#f1b6da\"],[0.4,\"#fde0ef\"],[0.5,\"#f7f7f7\"],[0.6,\"#e6f5d0\"],[0.7,\"#b8e186\"],[0.8,\"#7fbc41\"],[0.9,\"#4d9221\"],[1,\"#276419\"]],\"sequential\":[[0.0,\"#0d0887\"],[0.1111111111111111,\"#46039f\"],[0.2222222222222222,\"#7201a8\"],[0.3333333333333333,\"#9c179e\"],[0.4444444444444444,\"#bd3786\"],[0.5555555555555556,\"#d8576b\"],[0.6666666666666666,\"#ed7953\"],[0.7777777777777778,\"#fb9f3a\"],[0.8888888888888888,\"#fdca26\"],[1.0,\"#f0f921\"]],\"sequentialminus\":[[0.0,\"#0d0887\"],[0.1111111111111111,\"#46039f\"],[0.2222222222222222,\"#7201a8\"],[0.3333333333333333,\"#9c179e\"],[0.4444444444444444,\"#bd3786\"],[0.5555555555555556,\"#d8576b\"],[0.6666666666666666,\"#ed7953\"],[0.7777777777777778,\"#fb9f3a\"],[0.8888888888888888,\"#fdca26\"],[1.0,\"#f0f921\"]]},\"colorway\":[\"#636efa\",\"#EF553B\",\"#00cc96\",\"#ab63fa\",\"#FFA15A\",\"#19d3f3\",\"#FF6692\",\"#B6E880\",\"#FF97FF\",\"#FECB52\"],\"font\":{\"color\":\"#2a3f5f\"},\"geo\":{\"bgcolor\":\"white\",\"lakecolor\":\"white\",\"landcolor\":\"#E5ECF6\",\"showlakes\":true,\"showland\":true,\"subunitcolor\":\"white\"},\"hoverlabel\":{\"align\":\"left\"},\"hovermode\":\"closest\",\"mapbox\":{\"style\":\"light\"},\"paper_bgcolor\":\"white\",\"plot_bgcolor\":\"#E5ECF6\",\"polar\":{\"angularaxis\":{\"gridcolor\":\"white\",\"linecolor\":\"white\",\"ticks\":\"\"},\"bgcolor\":\"#E5ECF6\",\"radialaxis\":{\"gridcolor\":\"white\",\"linecolor\":\"white\",\"ticks\":\"\"}},\"scene\":{\"xaxis\":{\"backgroundcolor\":\"#E5ECF6\",\"gridcolor\":\"white\",\"gridwidth\":2,\"linecolor\":\"white\",\"showbackground\":true,\"ticks\":\"\",\"zerolinecolor\":\"white\"},\"yaxis\":{\"backgroundcolor\":\"#E5ECF6\",\"gridcolor\":\"white\",\"gridwidth\":2,\"linecolor\":\"white\",\"showbackground\":true,\"ticks\":\"\",\"zerolinecolor\":\"white\"},\"zaxis\":{\"backgroundcolor\":\"#E5ECF6\",\"gridcolor\":\"white\",\"gridwidth\":2,\"linecolor\":\"white\",\"showbackground\":true,\"ticks\":\"\",\"zerolinecolor\":\"white\"}},\"shapedefaults\":{\"line\":{\"color\":\"#2a3f5f\"}},\"ternary\":{\"aaxis\":{\"gridcolor\":\"white\",\"linecolor\":\"white\",\"ticks\":\"\"},\"baxis\":{\"gridcolor\":\"white\",\"linecolor\":\"white\",\"ticks\":\"\"},\"bgcolor\":\"#E5ECF6\",\"caxis\":{\"gridcolor\":\"white\",\"linecolor\":\"white\",\"ticks\":\"\"}},\"title\":{\"x\":0.05},\"xaxis\":{\"automargin\":true,\"gridcolor\":\"white\",\"linecolor\":\"white\",\"ticks\":\"\",\"title\":{\"standoff\":15},\"zerolinecolor\":\"white\",\"zerolinewidth\":2},\"yaxis\":{\"automargin\":true,\"gridcolor\":\"white\",\"linecolor\":\"white\",\"ticks\":\"\",\"title\":{\"standoff\":15},\"zerolinecolor\":\"white\",\"zerolinewidth\":2}}},\"title\":{\"text\":\"P\\u00f3dio de gastos de dinhero p\\u00fablico com verba parlamentar\"},\"yaxis\":{\"range\":[200000,1000000],\"title\":{\"text\":\"Valor gasto pelos senadores\"}}},                        {\"responsive\": true}                    ).then(function(){\n",
              "                            \n",
              "var gd = document.getElementById('301c86a1-45d0-4034-b71e-fe513db00e09');\n",
              "var x = new MutationObserver(function (mutations, observer) {{\n",
              "        var display = window.getComputedStyle(gd).display;\n",
              "        if (!display || display === 'none') {{\n",
              "            console.log([gd, 'removed!']);\n",
              "            Plotly.purge(gd);\n",
              "            observer.disconnect();\n",
              "        }}\n",
              "}});\n",
              "\n",
              "// Listen for the removal of the full notebook cells\n",
              "var notebookContainer = gd.closest('#notebook-container');\n",
              "if (notebookContainer) {{\n",
              "    x.observe(notebookContainer, {childList: true});\n",
              "}}\n",
              "\n",
              "// Listen for the clearing of the current output cell\n",
              "var outputEl = gd.closest('.output');\n",
              "if (outputEl) {{\n",
              "    x.observe(outputEl, {childList: true});\n",
              "}}\n",
              "\n",
              "                        })                };                            </script>        </div>\n",
              "</body>\n",
              "</html>"
            ]
          },
          "metadata": {}
        }
      ]
    }
  ]
}